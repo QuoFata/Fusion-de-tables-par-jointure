{
  "nbformat": 4,
  "nbformat_minor": 0,
  "metadata": {
    "colab": {
      "name": "4.2 - FusionTablesJointure_2.ipynb",
      "provenance": [],
      "toc_visible": true,
      "authorship_tag": "ABX9TyOF5gSvitWKCHkAHoHmxi2K",
      "include_colab_link": true
    },
    "kernelspec": {
      "name": "python3",
      "display_name": "Python 3"
    }
  },
  "cells": [
    {
      "cell_type": "markdown",
      "metadata": {
        "id": "view-in-github",
        "colab_type": "text"
      },
      "source": [
        "<a href=\"https://colab.research.google.com/github/QuoFata/Fusion-de-tables-par-jointure/blob/master/4_2_FusionTablesJointure_2.ipynb\" target=\"_parent\"><img src=\"https://colab.research.google.com/assets/colab-badge.svg\" alt=\"Open In Colab\"/></a>"
      ]
    },
    {
      "cell_type": "markdown",
      "metadata": {
        "id": "GACh7dkd5R4f",
        "colab_type": "text"
      },
      "source": [
        "# Fusion de tables par jointure (Deuxième partie)"
      ]
    },
    {
      "cell_type": "markdown",
      "metadata": {
        "id": "uFcf0Rdm5l4h",
        "colab_type": "text"
      },
      "source": [
        "## Objectifs"
      ]
    },
    {
      "cell_type": "markdown",
      "metadata": {
        "id": "-EJYwfUF5r4k",
        "colab_type": "text"
      },
      "source": [
        "*   Terminaison d'un algorithme\n",
        "\n",
        ">> Savoir s'assurer de la sortie d'une boucle non bornée\n",
        "\n",
        "*   Approche de la complexité d'un algorithme (2)\n",
        "\n",
        ">> Savoir insérer un compteur d'itérations\n",
        "\n",
        ">> Savoir insérer un chronométrage du temps d'exécution d'un programme\n",
        "\n"
      ]
    },
    {
      "cell_type": "markdown",
      "metadata": {
        "id": "QKguPmX65Y4A",
        "colab_type": "text"
      },
      "source": [
        "## Consignes et travail à réaliser"
      ]
    },
    {
      "cell_type": "markdown",
      "metadata": {
        "id": "UMcu798B65C2",
        "colab_type": "text"
      },
      "source": [
        "### Algorithme 1"
      ]
    },
    {
      "cell_type": "markdown",
      "metadata": {
        "id": "xxzQAbvvmRyH",
        "colab_type": "text"
      },
      "source": [
        "*Cet algorithme est celui écrit au cours de la première partie du travail sur la fusion de tables par jointure.*"
      ]
    },
    {
      "cell_type": "markdown",
      "metadata": {
        "id": "paP1Y8g6meYU",
        "colab_type": "text"
      },
      "source": [
        "**Ajoutez à ce programme :**\n",
        "\n",
        "*   un compteur d'instrutions\n",
        "*   un chronométrage du temps d'exécution du programme\n",
        "\n"
      ]
    },
    {
      "cell_type": "code",
      "metadata": {
        "id": "wqnMyyX468-W",
        "colab_type": "code",
        "colab": {}
      },
      "source": [
        "import csv\n",
        "from time import process_time\n",
        "\n",
        "# Déclaration de liste vide \n",
        "liste1 = []\n",
        "liste2 = []\n",
        "\n",
        "# Ouverture du fichier DonneesMondiales1.csv et remplissage de liste1 à partir du contenu de ce fichier.\n",
        "with open('DonneesMondiales1.csv', newline='') as csvfile:\n",
        "  spamreader = csv.reader(csvfile, delimiter=\",\")\n",
        "  for row in spamreader:\n",
        "    liste1.append(row)\n",
        "        \n",
        "# Ouverture du fichier DonneesMondiales2.csv et remplissage de liste2 à partir du contenu de ce fichier.\n",
        "with open('DonneesMondiales2.csv', newline='') as csvfile:\n",
        "  spamreader = csv.reader(csvfile, delimiter=\",\")\n",
        "  for row in spamreader:\n",
        "    liste2.append(row)\n",
        "\n",
        "compteur=0\n",
        "t1=process_time()\n",
        "\n",
        "# Parcours de liste1 et ajout des colonnes de liste2.\n",
        "for k1 in range(0,len(liste1)) :\n",
        "  for k2 in range(0,len(liste2)) :\n",
        "    compteur+=1 # incrémentation - équivalent à compteur = compteur +1\n",
        "    if liste1[k1][0] == liste2[k2][0] :\n",
        "      for i in range(1,len(liste2[k2])):\n",
        "        liste1[k1].append(liste2[k2][i])\n",
        "\n",
        "t2=process_time()\n",
        "\n",
        "print(\"longueur de liste1 = \"+str(len(liste1))+\" x longueur de la liste2 = \"+str(len(liste2))+\" >> \"+str(len(liste1)*len(liste2)))\n",
        "print(\"nombre d'instructions executées : \"+str(compteur)+\"\\n\")\n",
        "print(\"Temps d'exécution = \"+str(t2-t1)+\" secondes \\n\")\n",
        "# contrôle de validité de l'algorithme\n",
        "for k in range(0,10) :\n",
        "  print(liste1[k])"
      ],
      "execution_count": 0,
      "outputs": []
    },
    {
      "cell_type": "markdown",
      "metadata": {
        "colab_type": "text",
        "id": "qw9nVYw9nM3q"
      },
      "source": [
        "### Algorithme 2"
      ]
    },
    {
      "cell_type": "markdown",
      "metadata": {
        "id": "EuQK_Fi8nw6S",
        "colab_type": "text"
      },
      "source": [
        "Lorsque les valeurs des attributs dont l'index est supérieur à 0 d'un enregistrement de la liste2 ont été ajoutées à l'enregistrement de la liste 1 correspondant, on supprime cet enregistrement de la liste2 afin qu'il ne soit pas \"lu\" plusieurs fois.\n",
        "\n",
        "Ainsi le nombre d'enregsitrements de la liste2 doit diminuer au fur et à mesure de l'exécution du programme."
      ]
    },
    {
      "cell_type": "code",
      "metadata": {
        "id": "_wWvXozoGjvO",
        "colab_type": "code",
        "colab": {}
      },
      "source": [
        "# Déclaration de listes vides \n",
        "liste1 = []\n",
        "liste2 = []\n",
        "\n",
        "# Ouverture du fichier DonneesMondiales1.csv et remplissage de liste1 à partir du contenu de ce fichier.\n",
        "with open('DonneesMondiales1.csv', newline='') as csvfile:\n",
        "  spamreader = csv.reader(csvfile, delimiter=',')\n",
        "  for row in spamreader:\n",
        "    liste1.append(row)\n",
        "        \n",
        "# Ouverture du fichier DonneesMondiales2.csv et remplissage de liste2 à partir du contenu de ce fichier.\n",
        "with open('DonneesMondiales2.csv', newline='') as csvfile:\n",
        "  spamreader = csv.reader(csvfile, delimiter=',')\n",
        "  for row in spamreader:\n",
        "    liste2.append(row)\n",
        "        \n",
        "compteur=0\n",
        "t1=process_time()\n",
        "\n",
        "# Parcours de liste1 et ajout des colonnes de liste2.\n",
        "for k1 in range(0,len(liste1)) :\n",
        "  n = len(liste2)\n",
        "  for k2 in range(0,n) :\n",
        "    compteur+=1 # incrémentation - équivalent à compteur = compteur +1\n",
        "    if liste1[k1][0] == liste2[k2][0] :\n",
        "      suppr = k2\n",
        "      for i in range(1,len(liste2[k2])):\n",
        "        liste1[k1].append(liste2[k2][i])\n",
        "  del liste2[suppr]\n",
        "\n",
        "t2=process_time()\n",
        "\n",
        "print(\"nombre d'instructions executées : \"+str(compteur)+\"\\n\")\n",
        "print(\"nombre d'instructions executées = \"+str(len(liste1))+ \" + \"+str(len(liste1)-1)+ \" + \"+str(len(liste1)-2)+\" ... + 2 + 1 \\n\")\n",
        "print(\"Temps d'exécution = \"+str(t2-t1)+\" secondes \\n\")\n",
        "print(\"Longueur de la liste2 : \"+str(len(liste2))+\" enregistrements \\n\")\n",
        "# contrôle de validité de l'algorithme\n",
        "for k in range(0,10) :\n",
        "  print(liste1[k])"
      ],
      "execution_count": 0,
      "outputs": []
    },
    {
      "cell_type": "markdown",
      "metadata": {
        "colab_type": "text",
        "id": "ZRLR9eiNnStm"
      },
      "source": [
        "### Algorithme 3"
      ]
    },
    {
      "cell_type": "markdown",
      "metadata": {
        "id": "om_CFROp4DXV",
        "colab_type": "text"
      },
      "source": [
        "Parcours de la liste1 avec une boucle bornée et parcours de la liste 2 avec une boucle non bornée.\n",
        "\n",
        "On sort de la boucle non bornée dès que les valeurs des attributs d'index \"0\" sont identiques."
      ]
    },
    {
      "cell_type": "code",
      "metadata": {
        "id": "n-nbbMjaLCYM",
        "colab_type": "code",
        "colab": {}
      },
      "source": [
        "# Déclaration de listes vides \n",
        "liste1 = []\n",
        "liste2 = []\n",
        "\n",
        "# Ouverture du fichier DonneesMondiales1.csv et remplissage de liste1 à partir du contenu de ce fichier.\n",
        "with open('DonneesMondiales1.csv', newline='') as csvfile:\n",
        "    spamreader = csv.reader(csvfile, delimiter=\",\")\n",
        "    for row in spamreader:\n",
        "        liste1.append(row)\n",
        "        \n",
        "# Ouverture du fichier DonneesMondiales2.csv et remplissage de liste2 à partir du contenu de ce fichier.\n",
        "with open('DonneesMondiales2.csv', newline='') as csvfile:\n",
        "    spamreader = csv.reader(csvfile, delimiter=\",\")\n",
        "    for row in spamreader:\n",
        "        liste2.append(row)\n",
        "        \n",
        "# La deuxième table est parcourue avec une boucle non bornée.\n",
        "# La deuxième table est parcourue seulement\n",
        "# jusqu'à l'enregistrement pour lequel les deux pays sont identiques.\n",
        "\n",
        "compteur=0\n",
        "t1=process_time()\n",
        "\n",
        "for k1 in range(0,len(liste1)) :\n",
        "  trouve = False  # Déclaration d'une variable booleenne initialisée à \"Faux\"\n",
        "  i = 0           # Déclaration d'un compteur d'itération (type entier) initialisé à \"0\"\n",
        "  while i < len(liste2) and trouve == False :\n",
        "    # condition 1 : tant que le compteur d'itération est inférieur au nombre de lignes de la \"table1\" \n",
        "    # et \n",
        "    # condition 2 : tant la variable booleeenne est égale à \"Faux\"\n",
        "    # Les instructions qui suivent sont exécutées\n",
        "    # Si l'une de ces deux conditions est fausse sortie de la boucle\n",
        "      compteur+=1\n",
        "      if liste1[k1][0] == liste2[i][0] :\n",
        "        trouve = True\n",
        "        # une fois que je trouve le pays que je recherchais, je passe le booleen a Vrai.\n",
        "        for j in range(1,len(liste2[i])):\n",
        "          liste1[k1].append(liste2[i][j])\n",
        "      i = i + 1 # On peut aussi écrire i += 1\n",
        "\n",
        "t2=process_time()\n",
        "\n",
        "print(\"nombre d'instructions executées : \"+str(compteur)+\"\\n\")\n",
        "print(\"Temps d'exécution = \"+str(t2-t1)+\" secondes \\n\")\n",
        "# contrôle de validité de l'algorithme\n",
        "for k in range(0,10) :\n",
        "        print(liste1[k])"
      ],
      "execution_count": 0,
      "outputs": []
    },
    {
      "cell_type": "markdown",
      "metadata": {
        "colab_type": "text",
        "id": "eleRKNSM8aoB"
      },
      "source": [
        "### Algorithmes 4"
      ]
    },
    {
      "cell_type": "markdown",
      "metadata": {
        "id": "e-HG3OaO8ewT",
        "colab_type": "text"
      },
      "source": [
        "Les deux tables sont préalablement triés par valeur croissante de l'attribut d'index \"0\""
      ]
    },
    {
      "cell_type": "markdown",
      "metadata": {
        "id": "YN89PDUt-6GO",
        "colab_type": "text"
      },
      "source": [
        "#### Variante A"
      ]
    },
    {
      "cell_type": "markdown",
      "metadata": {
        "id": "ueTuRG7Z_BOA",
        "colab_type": "text"
      },
      "source": [
        "Parcours des deux tables par boucles bornées"
      ]
    },
    {
      "cell_type": "markdown",
      "metadata": {
        "colab_type": "text",
        "id": "0s5yHjKcCNEF"
      },
      "source": [
        "**Exécutez le code et comparez ses performances (nombre d'itérations et durée) par rapport à celles de l'algorithme 1. Notez vous une amélioration due au tri ?**"
      ]
    },
    {
      "cell_type": "markdown",
      "metadata": {
        "colab_type": "text",
        "id": "a8p4M7yBCRu5"
      },
      "source": [
        "*Ecrivez votre réponse ici*"
      ]
    },
    {
      "cell_type": "code",
      "metadata": {
        "colab_type": "code",
        "id": "OgCxoKd7_aBo",
        "colab": {}
      },
      "source": [
        "# Déclaration de liste vide \n",
        "liste1 = []\n",
        "liste2 = []\n",
        "\n",
        "# Ouverture du fichier DonneesMondiales1.csv et remplissage de liste1 à partir du contenu de ce fichier.\n",
        "with open('DonneesMondiales1.csv', newline='') as csvfile:\n",
        "  spamreader = csv.reader(csvfile, delimiter=\",\")\n",
        "  for row in spamreader:\n",
        "    liste1.append(row)\n",
        "        \n",
        "# Ouverture du fichier DonneesMondiales2.csv et remplissage de liste2 à partir du contenu de ce fichier.\n",
        "with open('DonneesMondiales2.csv', newline='') as csvfile:\n",
        "  spamreader = csv.reader(csvfile, delimiter=\",\")\n",
        "  for row in spamreader:\n",
        "    liste2.append(row)\n",
        "\n",
        "# tri des tables\n",
        "liste1.sort(key=lambda x:x[0])\n",
        "liste2.sort(key=lambda x:x[0])\n",
        "\n",
        "# Parcours de liste1 et ajout des colonnes de liste2.\n",
        "compteur=0\n",
        "t1=process_time()\n",
        "\n",
        "# Parcours de liste1 et ajout des colonnes de liste2.\n",
        "for k1 in range(0,len(liste1)) :\n",
        "  for k2 in range(0,len(liste2)) :\n",
        "    compteur+=1 # incrémentation - équivalent à compteur = compteur +1\n",
        "    if liste1[k1][0] == liste2[k2][0] :\n",
        "      for i in range(1,len(liste2[k2])):\n",
        "        liste1[k1].append(liste2[k2][i])\n",
        "\n",
        "t2=process_time()\n",
        "\n",
        "print(\"longueur de liste1 = \"+str(len(liste1))+\" x longueur de la liste2 = \"+str(len(liste2))+\" >> \"+str(len(liste1)*len(liste2)))\n",
        "print(\"nombre d'instructions executées : \"+str(compteur)+\"\\n\")\n",
        "print(\"Temps d'exécution = \"+str(t2-t1)+\" secondes \\n\")\n",
        "# contrôle de validité de l'algorithme\n",
        "for k in range(0,10) :\n",
        "  print(liste1[k])"
      ],
      "execution_count": 0,
      "outputs": []
    },
    {
      "cell_type": "markdown",
      "metadata": {
        "id": "UsKxSKT__j-l",
        "colab_type": "text"
      },
      "source": [
        "#### Variante B"
      ]
    },
    {
      "cell_type": "markdown",
      "metadata": {
        "id": "2HV_i3PZ_nq3",
        "colab_type": "text"
      },
      "source": [
        "Parcours des deux tables par des boucles bornées mais suppression d'un enregistrement de la table2 à chaque itération"
      ]
    },
    {
      "cell_type": "markdown",
      "metadata": {
        "colab_type": "text",
        "id": "4q2gxwCTB4b9"
      },
      "source": [
        "**Exécutez le code et comparez ses performances (nombre d'itérations et durée) par rapport à celles de l'algorithme 2. Notez vous une amélioration due au tri ?**"
      ]
    },
    {
      "cell_type": "markdown",
      "metadata": {
        "colab_type": "text",
        "id": "yaxAG6kpCBYS"
      },
      "source": [
        "*Ecrivez votre réponse ici*"
      ]
    },
    {
      "cell_type": "code",
      "metadata": {
        "colab_type": "code",
        "id": "4LIQQOnWAGMt",
        "colab": {}
      },
      "source": [
        "# Déclaration de listes vides \n",
        "liste1 = []\n",
        "liste2 = []\n",
        "\n",
        "# Ouverture du fichier DonneesMondiales1.csv et remplissage de liste1 à partir du contenu de ce fichier.\n",
        "with open('DonneesMondiales1.csv', newline='') as csvfile:\n",
        "  spamreader = csv.reader(csvfile, delimiter=',')\n",
        "  for row in spamreader:\n",
        "    liste1.append(row)\n",
        "        \n",
        "# Ouverture du fichier DonneesMondiales2.csv et remplissage de liste2 à partir du contenu de ce fichier.\n",
        "with open('DonneesMondiales2.csv', newline='') as csvfile:\n",
        "  spamreader = csv.reader(csvfile, delimiter=',')\n",
        "  for row in spamreader:\n",
        "    liste2.append(row)\n",
        "\n",
        "# tri des tables\n",
        "liste1.sort(key=lambda x:x[0])\n",
        "liste2.sort(key=lambda x:x[0])\n",
        "\n",
        "compteur=0\n",
        "t1=process_time()\n",
        "\n",
        "# Parcours de liste1 et ajout des colonnes de liste2.\n",
        "for k1 in range(0,len(liste1)) :\n",
        "  n = len(liste2)\n",
        "  for k2 in range(0,n) :\n",
        "    compteur+=1 # incrémentation - équivalent à compteur = compteur +1\n",
        "    if liste1[k1][0] == liste2[k2][0] :\n",
        "      suppr = k2\n",
        "      for i in range(1,len(liste2[k2])):\n",
        "        liste1[k1].append(liste2[k2][i])\n",
        "  del liste2[suppr]\n",
        "\n",
        "t2=process_time()\n",
        "\n",
        "print(\"nombre d'instructions executées : \"+str(compteur)+\"\\n\")\n",
        "print(\"nombre d'instructions executées = \"+str(len(liste1))+ \" + \"+str(len(liste1)-1)+ \" + \"+str(len(liste1)-2)+\" ... + 2 + 1 \\n\")\n",
        "print(\"Temps d'exécution = \"+str(t2-t1)+\" secondes \\n\")\n",
        "print(\"Longueur de la liste2 : \"+str(len(liste2))+\" enregistrements \\n\")\n",
        "# contrôle de validité de l'algorithme\n",
        "for k in range(0,10) :\n",
        "  print(liste1[k])"
      ],
      "execution_count": 0,
      "outputs": []
    },
    {
      "cell_type": "markdown",
      "metadata": {
        "id": "Ht86dDw1BDzy",
        "colab_type": "text"
      },
      "source": [
        "#### Variante C"
      ]
    },
    {
      "cell_type": "markdown",
      "metadata": {
        "id": "Vb-pFlgGBG0W",
        "colab_type": "text"
      },
      "source": [
        "Parcours de la table1 par boucle bornée et parcours de la table2 par boucle non bornée."
      ]
    },
    {
      "cell_type": "markdown",
      "metadata": {
        "id": "ni9sTiK2Bdy7",
        "colab_type": "text"
      },
      "source": [
        "**Exécutez le code et comparez ses performances (nombre d'itérations et durée) par rapport à celles de l'algorithme 3. Notez vous une amélioration due au tri ?**"
      ]
    },
    {
      "cell_type": "markdown",
      "metadata": {
        "id": "DWIDCTwkBwRf",
        "colab_type": "text"
      },
      "source": [
        "*Ecrivez votre réponse ici*"
      ]
    },
    {
      "cell_type": "code",
      "metadata": {
        "colab_type": "code",
        "id": "2qrzMcKI81YE",
        "colab": {}
      },
      "source": [
        "# Déclaration de listes vides \n",
        "liste1 = []\n",
        "liste2 = []\n",
        "\n",
        "# Ouverture du fichier DonneesMondiales1.csv et remplissage de liste1 à partir du contenu de ce fichier.\n",
        "with open('DonneesMondiales1.csv', newline='') as csvfile:\n",
        "    spamreader = csv.reader(csvfile, delimiter=\",\")\n",
        "    for row in spamreader:\n",
        "        liste1.append(row)\n",
        "        \n",
        "# Ouverture du fichier DonneesMondiales2.csv et remplissage de liste2 à partir du contenu de ce fichier.\n",
        "with open('DonneesMondiales2.csv', newline='') as csvfile:\n",
        "    spamreader = csv.reader(csvfile, delimiter=\",\")\n",
        "    for row in spamreader:\n",
        "        liste2.append(row)\n",
        "        \n",
        "# La deuxième table est parcourue avec une boucle non bornée.\n",
        "# La deuxième table est parcourue seulement\n",
        "# jusqu'à l'enregistrement pour lequel les deux pays sont identiques.\n",
        "\n",
        "# tri des tables\n",
        "liste1.sort(key=lambda x:x[0])\n",
        "liste2.sort(key=lambda x:x[0])\n",
        "\n",
        "compteur=0\n",
        "t1=process_time()\n",
        "\n",
        "for k1 in range(0,len(liste1)) :\n",
        "  trouve = False  # Déclaration d'une variable booleenne initialisée à \"Faux\"\n",
        "  i = 0           # Déclaration d'un compteur d'itération (type entier) initialisé à \"0\"\n",
        "  while i < len(liste2) and trouve == False :\n",
        "    # condition 1 : tant que le compteur d'itération est inférieur au nombre de lignes de la \"table1\" \n",
        "    # et \n",
        "    # condition 2 : tant la variable booleeenne est égale à \"Faux\"\n",
        "    # Les instructions qui suivent sont exécutées\n",
        "    # Si l'une de ces deux conditions est fausse sortie de la boucle\n",
        "      compteur+=1\n",
        "      if liste1[k1][0] == liste2[i][0] :\n",
        "        trouve = True\n",
        "        # une fois que je trouve le pays que je recherchais, je passe le booleen a Vrai.\n",
        "        for j in range(1,len(liste2[i])):\n",
        "          liste1[k1].append(liste2[i][j])\n",
        "      i = i + 1 # On peut aussi écrire i += 1\n",
        "\n",
        "t2=process_time()\n",
        "\n",
        "print(\"nombre d'instructions executées : \"+str(compteur)+\"\\n\")\n",
        "print(\"Temps d'exécution = \"+str(t2-t1)+\" secondes \\n\")\n",
        "# contrôle de validité de l'algorithme\n",
        "for k in range(0,10) :\n",
        "        print(liste1[k])"
      ],
      "execution_count": 0,
      "outputs": []
    },
    {
      "cell_type": "markdown",
      "metadata": {
        "colab_type": "text",
        "id": "XnKQzkST9d6J"
      },
      "source": [
        "#### Variante D"
      ]
    },
    {
      "cell_type": "markdown",
      "metadata": {
        "id": "ajs1YQCCAfRu",
        "colab_type": "text"
      },
      "source": [
        "**Examinez le code et déterminez les caractéristiques de cet algorithme par rapport aux précédents**"
      ]
    },
    {
      "cell_type": "markdown",
      "metadata": {
        "id": "_-YPbwzIAwZD",
        "colab_type": "text"
      },
      "source": [
        "*Ecrivez votre réponse ici*"
      ]
    },
    {
      "cell_type": "markdown",
      "metadata": {
        "id": "zsgx4E8pC0iB",
        "colab_type": "text"
      },
      "source": [
        "**Exécutez ce programme et comparez ses performances à celles des programmes précédents. Concluez sur l'intérêt d'effectuer un tri préalable.**"
      ]
    },
    {
      "cell_type": "markdown",
      "metadata": {
        "id": "IHc3AOBsDFd0",
        "colab_type": "text"
      },
      "source": [
        "*Ecrivez votre réponse ici*"
      ]
    },
    {
      "cell_type": "code",
      "metadata": {
        "colab_type": "code",
        "id": "fiOk_ppj9rle",
        "colab": {}
      },
      "source": [
        "# Déclaration de listes vides \n",
        "liste1 = []\n",
        "liste2 = []\n",
        "\n",
        "# Ouverture du fichier DonneesMondiales1.csv et remplissage de liste1 à partir du contenu de ce fichier.\n",
        "with open('DonneesMondiales1.csv', newline='') as csvfile:\n",
        "    spamreader = csv.reader(csvfile, delimiter=\",\")\n",
        "    for row in spamreader:\n",
        "        liste1.append(row)\n",
        "        \n",
        "# Ouverture du fichier DonneesMondiales2.csv et remplissage de liste2 à partir du contenu de ce fichier.\n",
        "with open('DonneesMondiales2.csv', newline='') as csvfile:\n",
        "    spamreader = csv.reader(csvfile, delimiter=\",\")\n",
        "    for row in spamreader:\n",
        "        liste2.append(row)\n",
        "        \n",
        "# La deuxième table est parcourue avec une boucle non bornée.\n",
        "# La deuxième table est parcourue seulement\n",
        "# jusqu'à l'enregistrement pour lequel les deux pays sont identiques.\n",
        "\n",
        "# tri des tables\n",
        "liste1.sort(key=lambda x:x[0])\n",
        "liste2.sort(key=lambda x:x[0])\n",
        "\n",
        "compteur=0\n",
        "t1=process_time()\n",
        "\n",
        "for k1 in range(0,len(liste1)) :\n",
        "  trouve = False  # Déclaration d'une variable booleenne initialisée à \"Faux\"\n",
        "  i = 0           # Déclaration d'un compteur d'itération (type entier) initialisé à \"0\"\n",
        "  n = len(liste2)\n",
        "  while i < n and trouve == False :\n",
        "    # condition 1 : tant que le compteur d'itération est inférieur au nombre de lignes de la \"table1\" \n",
        "    # et \n",
        "    # condition 2 : tant la variable booleeenne est égale à \"Faux\"\n",
        "    # Les instructions qui suivent sont exécutées\n",
        "    # Si l'une de ces deux conditions est fausse sortie de la boucle\n",
        "      compteur+=1\n",
        "      if liste1[k1][0] == liste2[i][0] :\n",
        "        trouve = True\n",
        "        suppr = i\n",
        "        # une fois que je trouve le pays que je recherchais, je passe le booleen a Vrai.\n",
        "        for j in range(1,len(liste2[i])):\n",
        "          liste1[k1].append(liste2[i][j])\n",
        "      i = i + 1 # On peut aussi écrire i += 1\n",
        "      del liste2[suppr]\n",
        "\n",
        "t2=process_time()\n",
        "\n",
        "print(\"nombre d'instructions executées : \"+str(compteur)+\"\\n\")\n",
        "print(\"Temps d'exécution = \"+str(t2-t1)+\" secondes \\n\")\n",
        "# contrôle de validité de l'algorithme\n",
        "for k in range(0,10) :\n",
        "        print(liste1[k])"
      ],
      "execution_count": 0,
      "outputs": []
    }
  ]
}