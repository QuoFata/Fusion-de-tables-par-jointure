{
  "nbformat": 4,
  "nbformat_minor": 0,
  "metadata": {
    "colab": {
      "name": "4.2 - FusionTablesJointure_1.ipynb",
      "provenance": [],
      "toc_visible": true,
      "authorship_tag": "ABX9TyORyNM76CBvZmO6o1RHtLk6",
      "include_colab_link": true
    },
    "kernelspec": {
      "name": "python3",
      "display_name": "Python 3"
    }
  },
  "cells": [
    {
      "cell_type": "markdown",
      "metadata": {
        "id": "view-in-github",
        "colab_type": "text"
      },
      "source": [
        "<a href=\"https://colab.research.google.com/github/QuoFata/Fusion-de-tables-par-jointure/blob/master/4_2_FusionTablesJointure_1.ipynb\" target=\"_parent\"><img src=\"https://colab.research.google.com/assets/colab-badge.svg\" alt=\"Open In Colab\"/></a>"
      ]
    },
    {
      "cell_type": "markdown",
      "metadata": {
        "id": "NrIr8XUvW5zP",
        "colab_type": "text"
      },
      "source": [
        "# Fusion de tables par jointure (Première partie)"
      ]
    },
    {
      "cell_type": "markdown",
      "metadata": {
        "id": "xuEJmeZiW-nP",
        "colab_type": "text"
      },
      "source": [
        "## **Pré-requis et objectifs**"
      ]
    },
    {
      "cell_type": "markdown",
      "metadata": {
        "id": "iCi_mjYwXFp2",
        "colab_type": "text"
      },
      "source": [
        "### Pré-requis"
      ]
    },
    {
      "cell_type": "markdown",
      "metadata": {
        "id": "eghQMokhXJ1k",
        "colab_type": "text"
      },
      "source": [
        ""
      ]
    },
    {
      "cell_type": "markdown",
      "metadata": {
        "id": "NvCbUlUAX2F-",
        "colab_type": "text"
      },
      "source": [
        "### Objectifs"
      ]
    },
    {
      "cell_type": "markdown",
      "metadata": {
        "id": "Py2VfolPX6hP",
        "colab_type": "text"
      },
      "source": [
        "*Connaissances*\n",
        "1.   savoir définir une fusion de tables par jointure\n",
        "2.   savoir différencier une fusion de tables par jointure d'une fusion de tables par concaténation\n",
        "*Capacités*\n",
        "3.   savoir écrire un algorithme de fusion de tables par jointure\n",
        "4.   savoir programmer un algorithme de fusion de tables par jointure en Python\n",
        "\n",
        "\n",
        "\n"
      ]
    },
    {
      "cell_type": "markdown",
      "metadata": {
        "id": "jz8GbLMyYr6M",
        "colab_type": "text"
      },
      "source": [
        "## **Consignes et travail à réaliser**"
      ]
    },
    {
      "cell_type": "markdown",
      "metadata": {
        "id": "SF0MgkKDY041",
        "colab_type": "text"
      },
      "source": [
        "### **1 - Définir la notion de fusion par jointure**"
      ]
    },
    {
      "cell_type": "markdown",
      "metadata": {
        "id": "qMXPJDaQyd8E",
        "colab_type": "text"
      },
      "source": [
        "Examinez l'illustration ci-dessous qui décrit une fusion de \n",
        "tables par jointure et formulez une définition de cette notion.\n",
        "\n",
        "![Texte alternatif…](https://ent.sapiensjmh.top/svt/wp-content/uploads/TablesFusionJointure_schema.png)"
      ]
    },
    {
      "cell_type": "markdown",
      "metadata": {
        "id": "_qbh4e52ctiN",
        "colab_type": "text"
      },
      "source": [
        "*Ecrivez votre réponse ici*"
      ]
    },
    {
      "cell_type": "markdown",
      "metadata": {
        "id": "NvtlFnfU34ev",
        "colab_type": "text"
      },
      "source": [
        "### **2 - Ecrire un algorithme de fusion de tables par jointure et le programmer en Python**"
      ]
    },
    {
      "cell_type": "markdown",
      "metadata": {
        "id": "3kmGac99dOwv",
        "colab_type": "text"
      },
      "source": [
        "#### Ressources disponibles"
      ]
    },
    {
      "cell_type": "markdown",
      "metadata": {
        "id": "BCA5wmNtdZeC",
        "colab_type": "text"
      },
      "source": [
        "Vous disposez de deux fichiers csv :\n",
        "\n",
        "*   [DonneesMondiales1.csv](https://ent.sapiensjmh.top/svt/wp-content/uploads/DonneesMondiales1.csv)\n",
        "*   [DonneesMondiales2.csv](https://ent.sapiensjmh.top/svt/wp-content/uploads/DonneesMondiales2.csv)\n",
        "\n",
        "Source : [populationdata.net](https://www.populationdata.net/palmares/population/)\n"
      ]
    },
    {
      "cell_type": "markdown",
      "metadata": {
        "id": "NnMY4C1h6V6s",
        "colab_type": "text"
      },
      "source": [
        "#### Ecrivez l'algorithme qui permet de fusionner par jointure les deux tables créées à partir des deux fichiers csv donnés en ressource puis programmez le en python.\n"
      ]
    },
    {
      "cell_type": "markdown",
      "metadata": {
        "id": "8peARtkge4of",
        "colab_type": "text"
      },
      "source": [
        "*Ecrivez votre algorithme ici*"
      ]
    },
    {
      "cell_type": "code",
      "metadata": {
        "id": "cdFQPwYOe75e",
        "colab_type": "code",
        "colab": {}
      },
      "source": [
        "# Ecrivez votre code ici"
      ],
      "execution_count": 0,
      "outputs": []
    }
  ]
}